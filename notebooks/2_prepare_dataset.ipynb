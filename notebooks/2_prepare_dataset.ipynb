{
 "cells": [
  {
   "cell_type": "code",
   "execution_count": 1,
   "metadata": {},
   "outputs": [
    {
     "name": "stdout",
     "output_type": "stream",
     "text": [
      "Added e:\\repo\\DistilBERTFinancialSentiment to sys.path\n"
     ]
    }
   ],
   "source": [
    "import sys\n",
    "import os\n",
    "\n",
    "# Add the parent directory to the path so Python can find the toolbox package\n",
    "module_path = os.path.abspath(os.path.join('..'))\n",
    "if module_path not in sys.path:\n",
    "    sys.path.append(module_path)\n",
    "    print(f\"Added {module_path} to sys.path\")"
   ]
  },
  {
   "cell_type": "code",
   "execution_count": 2,
   "metadata": {},
   "outputs": [],
   "source": [
    "import pandas as pd\n",
    "from toolbox.utils import get_dataset_dir\n",
    "\n",
    "german_df = pd.read_csv(get_dataset_dir(\"financial_phrasebank_multilingual/partial/financial_phrasebank_german\"))                       \n",
    "french_df = pd.read_csv(get_dataset_dir(\"financial_phrasebank_multilingual/partial/financial_phrasebank_french\"))\n",
    "spanish_df = pd.read_csv(get_dataset_dir(\"financial_phrasebank_multilingual/partial/financial_phrasebank_spanish\"))\n",
    "english_df = pd.read_csv(get_dataset_dir(\"financial_phrasebank_multilingual/partial/financial_phrasebank_english\"))\n"
   ]
  },
  {
   "cell_type": "code",
   "execution_count": 3,
   "metadata": {},
   "outputs": [],
   "source": [
    "german_df = german_df.dropna()\n",
    "french_df = french_df.dropna()\n",
    "spanish_df = spanish_df.dropna()\n",
    "english_df = english_df.dropna()"
   ]
  },
  {
   "cell_type": "code",
   "execution_count": 4,
   "metadata": {},
   "outputs": [],
   "source": [
    "german_df[\"lang\"] = \"de\"\n",
    "french_df[\"lang\"] = \"fr\"\n",
    "spanish_df[\"lang\"] = \"es\"\n",
    "english_df[\"lang\"] = \"en\""
   ]
  },
  {
   "cell_type": "code",
   "execution_count": 5,
   "metadata": {},
   "outputs": [],
   "source": [
    "english_df = english_df.rename(columns={\"Sentence\": \"sentence\", \"Sentiment\": \"sentiment\"})"
   ]
  },
  {
   "cell_type": "code",
   "execution_count": 6,
   "metadata": {},
   "outputs": [],
   "source": [
    "final_dataset = pd.concat([german_df, french_df, spanish_df, english_df], ignore_index=True)\n",
    "label2id = {\"neutral\": 0, \"positive\": 1, \"negative\": 2}\n",
    "final_dataset[\"sentiment\"] = final_dataset[\"sentiment\"].map(label2id)\n",
    "final_dataset[\"labels\"] = final_dataset[\"sentiment\"]\n",
    "final_dataset = final_dataset[['sentence', 'labels', 'lang']]"
   ]
  },
  {
   "cell_type": "code",
   "execution_count": 7,
   "metadata": {},
   "outputs": [
    {
     "name": "stdout",
     "output_type": "stream",
     "text": [
      "Language distribution in the dataset:\n",
      "lang\n",
      "de    5842\n",
      "fr    5842\n",
      "es    5842\n",
      "en    5842\n",
      "Name: count, dtype: int64\n",
      "\n",
      "Total samples: 23368\n",
      "\n",
      "Sentiment distribution by language:\n",
      "labels     0     1    2\n",
      "lang                   \n",
      "de      3130  1852  860\n",
      "en      3130  1852  860\n",
      "es      3130  1852  860\n",
      "fr      3130  1852  860\n"
     ]
    }
   ],
   "source": [
    "# Check language distribution in the original dataset\n",
    "print(\"Language distribution in the dataset:\")\n",
    "lang_distribution = final_dataset['lang'].value_counts()\n",
    "print(lang_distribution)\n",
    "print(f\"\\nTotal samples: {len(final_dataset)}\")\n",
    "\n",
    "# Check sentiment distribution by language\n",
    "print(\"\\nSentiment distribution by language:\")\n",
    "sentiment_by_lang = final_dataset.groupby(['lang', 'labels']).size().unstack()\n",
    "print(sentiment_by_lang)"
   ]
  },
  {
   "cell_type": "code",
   "execution_count": 8,
   "metadata": {},
   "outputs": [
    {
     "name": "stdout",
     "output_type": "stream",
     "text": [
      "Train set shape: (16357, 3)\n",
      "Test set shape: (7011, 3)\n",
      "\n",
      "Language distribution in train set:\n",
      "lang\n",
      "en    4090\n",
      "fr    4089\n",
      "es    4089\n",
      "de    4089\n",
      "Name: count, dtype: int64\n",
      "\n",
      "Language distribution in test set:\n",
      "lang\n",
      "de    1753\n",
      "fr    1753\n",
      "es    1753\n",
      "en    1752\n",
      "Name: count, dtype: int64\n"
     ]
    }
   ],
   "source": [
    "# Replace the previous simple split with a stratified split\n",
    "from sklearn.model_selection import train_test_split\n",
    "\n",
    "# Convert the dataframe to a format suitable for Hugging Face datasets\n",
    "train_df, test_df = train_test_split(\n",
    "    final_dataset,\n",
    "    test_size=0.3,\n",
    "    random_state=42,\n",
    "    stratify=final_dataset['lang']  # Stratify by language\n",
    ")\n",
    "\n",
    "print(\"Train set shape:\", train_df.shape)\n",
    "print(\"Test set shape:\", test_df.shape)\n",
    "\n",
    "# Verify language distribution in train and test sets\n",
    "print(\"\\nLanguage distribution in train set:\")\n",
    "print(train_df['lang'].value_counts())\n",
    "print(\"\\nLanguage distribution in test set:\")\n",
    "print(test_df['lang'].value_counts())"
   ]
  },
  {
   "cell_type": "code",
   "execution_count": 9,
   "metadata": {},
   "outputs": [
    {
     "name": "stdout",
     "output_type": "stream",
     "text": [
      "Sentiment distribution in train set:\n",
      "labels     0     1    2\n",
      "lang                   \n",
      "de      2225  1273  591\n",
      "en      2205  1268  617\n",
      "es      2236  1248  605\n",
      "fr      2160  1358  571\n",
      "\n",
      "Sentiment distribution in test set:\n",
      "labels    0    1    2\n",
      "lang                 \n",
      "de      905  579  269\n",
      "en      925  584  243\n",
      "es      894  604  255\n",
      "fr      970  494  289\n"
     ]
    }
   ],
   "source": [
    "# Check sentiment distribution in train and test sets\n",
    "print(\"Sentiment distribution in train set:\")\n",
    "print(train_df.groupby(['lang', 'labels']).size().unstack())\n",
    "print(\"\\nSentiment distribution in test set:\")\n",
    "print(test_df.groupby(['lang', 'labels']).size().unstack())"
   ]
  },
  {
   "cell_type": "code",
   "execution_count": 10,
   "metadata": {},
   "outputs": [
    {
     "data": {
      "application/vnd.jupyter.widget-view+json": {
       "model_id": "5fbdd6c59f3d458b833c6a7aacef5837",
       "version_major": 2,
       "version_minor": 0
      },
      "text/plain": [
       "Casting the dataset:   0%|          | 0/16357 [00:00<?, ? examples/s]"
      ]
     },
     "metadata": {},
     "output_type": "display_data"
    },
    {
     "data": {
      "application/vnd.jupyter.widget-view+json": {
       "model_id": "3ff5737e8af04ba38554b38a911061c4",
       "version_major": 2,
       "version_minor": 0
      },
      "text/plain": [
       "Casting the dataset:   0%|          | 0/7011 [00:00<?, ? examples/s]"
      ]
     },
     "metadata": {},
     "output_type": "display_data"
    },
    {
     "data": {
      "application/vnd.jupyter.widget-view+json": {
       "model_id": "e4a41a7d80f7425ba4800ae3b145da08",
       "version_major": 2,
       "version_minor": 0
      },
      "text/plain": [
       "Casting the dataset:   0%|          | 0/7011 [00:00<?, ? examples/s]"
      ]
     },
     "metadata": {},
     "output_type": "display_data"
    },
    {
     "data": {
      "application/vnd.jupyter.widget-view+json": {
       "model_id": "214e29605aab4ad896d105d9bd511d99",
       "version_major": 2,
       "version_minor": 0
      },
      "text/plain": [
       "Casting the dataset:   0%|          | 0/16357 [00:00<?, ? examples/s]"
      ]
     },
     "metadata": {},
     "output_type": "display_data"
    },
    {
     "name": "stdout",
     "output_type": "stream",
     "text": [
      "DatasetDict({\n",
      "    train: Dataset({\n",
      "        features: ['sentence', 'labels', 'lang'],\n",
      "        num_rows: 16357\n",
      "    })\n",
      "    test: Dataset({\n",
      "        features: ['sentence', 'labels', 'lang'],\n",
      "        num_rows: 7011\n",
      "    })\n",
      "})\n"
     ]
    }
   ],
   "source": [
    "# Convert pandas dataframes to Hugging Face datasets\n",
    "import datasets\n",
    "from datasets import Dataset\n",
    "\n",
    "train_dataset = Dataset.from_pandas(train_df, preserve_index=False)\n",
    "test_dataset = Dataset.from_pandas(test_df, preserve_index=False)\n",
    "\n",
    "sentiments = [\"neutral\", \"positive\", \"negative\"]\n",
    "langs = [\"en\", \"fr\", \"de\", \"es\"]\n",
    "\n",
    "train_dataset = train_dataset.cast_column(\"lang\", datasets.ClassLabel(names=langs))\n",
    "test_dataset = test_dataset.cast_column(\"lang\", datasets.ClassLabel(names=langs))\n",
    "test_dataset = test_dataset.cast_column(\"labels\", datasets.ClassLabel(names=sentiments))\n",
    "train_dataset = train_dataset.cast_column(\"labels\", datasets.ClassLabel(names=sentiments))\n",
    "\n",
    "# Create DatasetDict\n",
    "dataset_dict = datasets.DatasetDict({\n",
    "    'train': train_dataset,\n",
    "    'test': test_dataset\n",
    "})\n",
    "\n",
    "print(dataset_dict)"
   ]
  },
  {
   "cell_type": "code",
   "execution_count": 11,
   "metadata": {},
   "outputs": [],
   "source": [
    "# Save as CSV files for later use\n",
    "train_df.to_csv(\"../data/train_subset.csv\", index=False)\n",
    "test_df.to_csv(\"../data/eval_subset.csv\", index=False)\n",
    "\n",
    "# Also save to parquet format (more efficient for Hugging Face datasets)\n",
    "final_dataset.to_parquet(\n",
    "    get_dataset_dir(\"financial_phrasebank_multilingual/financial_phrasebank_multilingual\", \"parquet\"),\n",
    "    index=False\n",
    ")\n",
    "\n",
    "final_dataset.to_csv(\n",
    "    get_dataset_dir(\"financial_phrasebank_multilingual/financial_phrasebank_multilingual\", \"csv\"),\n",
    "    index=False\n",
    ")"
   ]
  },
  {
   "cell_type": "code",
   "execution_count": 12,
   "metadata": {},
   "outputs": [
    {
     "data": {
      "application/vnd.jupyter.widget-view+json": {
       "model_id": "52cd4b054f7645ca8b778cb89fadd445",
       "version_major": 2,
       "version_minor": 0
      },
      "text/plain": [
       "Uploading the dataset shards:   0%|          | 0/1 [00:00<?, ?it/s]"
      ]
     },
     "metadata": {},
     "output_type": "display_data"
    },
    {
     "data": {
      "application/vnd.jupyter.widget-view+json": {
       "model_id": "29b36b5fdb9743c18b2ba74f57cf2722",
       "version_major": 2,
       "version_minor": 0
      },
      "text/plain": [
       "Creating parquet from Arrow format:   0%|          | 0/17 [00:00<?, ?ba/s]"
      ]
     },
     "metadata": {},
     "output_type": "display_data"
    },
    {
     "data": {
      "application/vnd.jupyter.widget-view+json": {
       "model_id": "8af48913af8b4033a942a0b80a911b8a",
       "version_major": 2,
       "version_minor": 0
      },
      "text/plain": [
       "Uploading the dataset shards:   0%|          | 0/1 [00:00<?, ?it/s]"
      ]
     },
     "metadata": {},
     "output_type": "display_data"
    },
    {
     "data": {
      "application/vnd.jupyter.widget-view+json": {
       "model_id": "8283eba5ec7d4b0685cf8b99f878c351",
       "version_major": 2,
       "version_minor": 0
      },
      "text/plain": [
       "Creating parquet from Arrow format:   0%|          | 0/8 [00:00<?, ?ba/s]"
      ]
     },
     "metadata": {},
     "output_type": "display_data"
    },
    {
     "data": {
      "text/plain": [
       "CommitInfo(commit_url='https://huggingface.co/datasets/nojedag/financial_phrasebank_multilingual/commit/9bf00435b9e0c513816716a893fe9b1d95c19fb5', commit_message='Upload dataset', commit_description='', oid='9bf00435b9e0c513816716a893fe9b1d95c19fb5', pr_url=None, repo_url=RepoUrl('https://huggingface.co/datasets/nojedag/financial_phrasebank_multilingual', endpoint='https://huggingface.co', repo_type='dataset', repo_id='nojedag/financial_phrasebank_multilingual'), pr_revision=None, pr_num=None)"
      ]
     },
     "execution_count": 12,
     "metadata": {},
     "output_type": "execute_result"
    }
   ],
   "source": [
    "# Push the balanced dataset to Hugging Face Hub\n",
    "dataset_dict.push_to_hub(\"nojedag/financial_phrasebank_multilingual\")"
   ]
  }
 ],
 "metadata": {
  "kernelspec": {
   "display_name": ".venv",
   "language": "python",
   "name": "python3"
  },
  "language_info": {
   "codemirror_mode": {
    "name": "ipython",
    "version": 3
   },
   "file_extension": ".py",
   "mimetype": "text/x-python",
   "name": "python",
   "nbconvert_exporter": "python",
   "pygments_lexer": "ipython3",
   "version": "3.12.10"
  }
 },
 "nbformat": 4,
 "nbformat_minor": 2
}
